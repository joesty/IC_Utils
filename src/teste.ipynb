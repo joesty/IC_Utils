{
 "cells": [
  {
   "cell_type": "code",
   "execution_count": 1,
   "metadata": {},
   "outputs": [],
   "source": [
    "import h5py\n",
    "\n",
    "names = ['Ariel', 'Misael', 'Hellen', 'Gustavo']\n",
    "sobrenames = ['Silveira', 'Rezende', 'Muniz', 'Ribeiro']\n",
    "alturas = [180, 183, 161, 182]\n",
    "peso = [81, 56, 65, 71]\n",
    "idade = [23, 29, 21, 27]\n",
    "\n",
    "\n",
    "f = h5py.File('teste_1.h5', 'w')\n",
    "\n",
    "for i in range(4):\n",
    "    d = f.create_group('person_{}'.format(i+1))\n",
    "    d.create_dataset('name', data=names[i])\n",
    "    d.create_dataset('last_name', data=sobrenames[i])\n",
    "    d.create_dataset('height', data=alturas[i])\n",
    "    d.create_dataset('weight', data=peso[i])\n",
    "    d.create_dataset('age', data=idade[i])\n",
    "\n",
    "f.close()"
   ]
  },
  {
   "cell_type": "code",
   "execution_count": 11,
   "metadata": {},
   "outputs": [
    {
     "name": "stdout",
     "output_type": "stream",
     "text": [
      "b'Ariel'\n"
     ]
    }
   ],
   "source": [
    "f = h5py.File('teste_1.h5', 'r')\n",
    "l = f['person_1']['name'][()]\n",
    "print(l)\n",
    "f.close()"
   ]
  },
  {
   "cell_type": "code",
   "execution_count": 10,
   "metadata": {},
   "outputs": [
    {
     "name": "stdout",
     "output_type": "stream",
     "text": [
      "b'Ariel'\n"
     ]
    }
   ],
   "source": []
  },
  {
   "cell_type": "code",
   "execution_count": 10,
   "metadata": {},
   "outputs": [
    {
     "data": {
      "text/plain": [
       "['age', 'height', 'last_name', 'name', 'weight']"
      ]
     },
     "execution_count": 10,
     "metadata": {},
     "output_type": "execute_result"
    }
   ],
   "source": []
  },
  {
   "cell_type": "code",
   "execution_count": null,
   "metadata": {},
   "outputs": [],
   "source": []
  }
 ],
 "metadata": {
  "kernelspec": {
   "display_name": "Python 3.8.10 64-bit",
   "language": "python",
   "name": "python3"
  },
  "language_info": {
   "codemirror_mode": {
    "name": "ipython",
    "version": 3
   },
   "file_extension": ".py",
   "mimetype": "text/x-python",
   "name": "python",
   "nbconvert_exporter": "python",
   "pygments_lexer": "ipython3",
   "version": "3.8.10"
  },
  "orig_nbformat": 4,
  "vscode": {
   "interpreter": {
    "hash": "767d51c1340bd893661ea55ea3124f6de3c7a262a8b4abca0554b478b1e2ff90"
   }
  }
 },
 "nbformat": 4,
 "nbformat_minor": 2
}
